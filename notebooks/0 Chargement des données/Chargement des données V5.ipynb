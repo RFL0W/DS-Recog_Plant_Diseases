{
 "cells": [
  {
   "cell_type": "markdown",
   "id": "2a4230bb",
   "metadata": {
    "id": "2a4230bb"
   },
   "source": [
    "# Importation des données dans les dataframe de référence"
   ]
  },
  {
   "cell_type": "markdown",
   "id": "dfad5f37",
   "metadata": {
    "id": "dfad5f37"
   },
   "source": [
    "## 0 Importation de bibliothèques nécessaires"
   ]
  },
  {
   "cell_type": "code",
   "execution_count": 1,
   "id": "747a08c2",
   "metadata": {
    "executionInfo": {
     "elapsed": 1229,
     "status": "ok",
     "timestamp": 1688826712953,
     "user": {
      "displayName": "Julie Le Vu",
      "userId": "14306858844127411712"
     },
     "user_tz": -120
    },
    "id": "747a08c2"
   },
   "outputs": [],
   "source": [
    "import pandas as pd\n",
    "import numpy as np\n",
    "from PIL import Image\n",
    "import os\n",
    "import cv2\n",
    "from tqdm import tqdm\n",
    "import shutil"
   ]
  },
  {
   "cell_type": "markdown",
   "id": "6f65f910",
   "metadata": {
    "id": "6f65f910"
   },
   "source": [
    "## 1 Importation du dataframe source contenant les 3 bases (NewPlantDisease, PlantDisease et PlantVillage)"
   ]
  },
  {
   "cell_type": "markdown",
   "id": "ed2352c8",
   "metadata": {
    "id": "ed2352c8"
   },
   "source": [
    "### 1.1 Importation des données"
   ]
  },
  {
   "cell_type": "code",
   "execution_count": 2,
   "id": "f84f901d",
   "metadata": {
    "executionInfo": {
     "elapsed": 293,
     "status": "ok",
     "timestamp": 1688827114685,
     "user": {
      "displayName": "Julie Le Vu",
      "userId": "14306858844127411712"
     },
     "user_tz": -120
    },
    "id": "f84f901d"
   },
   "outputs": [],
   "source": [
    "#Création de la structure du DataFrame\n",
    "#'Dataset' contient le nom du dataset source (NewPlantDisease, PlantDisease ou Plantvillage)\n",
    "#'Set' contient test, train ou valid pour (new) plant disease, color, grayscale et segmented pour Plantvillage\n",
    "#'DirPath' est le chemin d'accès sur l'ordinateur local du répertoire\n",
    "#'FileName' est le nom de fichier dans ce répertoire\n",
    "df_KaggleData = pd.DataFrame(columns=['Plante','Maladie','Dataset','Set','DirPath','FileName'])"
   ]
  },
  {
   "cell_type": "code",
   "execution_count": 3,
   "id": "f10d017c",
   "metadata": {
    "executionInfo": {
     "elapsed": 310,
     "status": "ok",
     "timestamp": 1688827116424,
     "user": {
      "displayName": "Julie Le Vu",
      "userId": "14306858844127411712"
     },
     "user_tz": -120
    },
    "id": "f10d017c"
   },
   "outputs": [],
   "source": [
    "#Définition d'une fonction de chargement des données dans un data frame au format précédent\n",
    "def load_data_kaggle(pathRep, df, dataset, cat):\n",
    "    new_rows = [] #Lignes qui seront à ajouter\n",
    "\n",
    "    #Parcours des répertoires Plante__Maladie\n",
    "    for rep in os.listdir(pathRep):\n",
    "        #Sépare le nom de la plante de la maladie\n",
    "        noms = rep.split(sep='___')\n",
    "\n",
    "        #Adresse du sous-répertoire\n",
    "        sousRep = os.path.join(pathRep,rep)\n",
    "\n",
    "        #Parcours des images du sous-répertoire\n",
    "        for image in os.listdir(sousRep):\n",
    "            #Création de la liste des lignes additionnelles\n",
    "            new_row = {'Plante' : noms[0] , 'Maladie' : noms[1], 'Dataset' : dataset, 'Set' : cat, 'DirPath' : sousRep, 'FileName' : image}\n",
    "            new_rows.append(new_row)\n",
    "    #Ajout des images au df passé en argument\n",
    "    new_rows_df = pd.DataFrame(new_rows)\n",
    "    df = pd.concat([df, new_rows_df], ignore_index=True)\n",
    "    return(df)"
   ]
  },
  {
   "cell_type": "markdown",
   "id": "4d1d840e",
   "metadata": {
    "id": "4d1d840e"
   },
   "source": [
    "*Note : les blocs suivants sont adaptés aux répertoires de Julie, Florent, Hadrien et Colab. Autrement, les \"pathRep\" doivent être ajustés pour chaque set de données selon l'arborescence propre à chaque utilisateur*"
   ]
  },
  {
   "cell_type": "code",
   "execution_count": null,
   "id": "33ece5f2",
   "metadata": {
    "id": "33ece5f2"
   },
   "outputs": [],
   "source": [
    "#ADRESSES DOSSIERS JULIE\n",
    "#New Plant Disease - valid\n",
    "pathRep_NPD_valid = \"D:\\\\Documents\\\\Julie\\\\FormationDataScientest\\\\DonneesProjet\\\\NewPlantDiseases\\\\valid\"\n",
    "#New Plant Disease - train\n",
    "pathRep_NPD_train = \"D:\\\\Documents\\\\Julie\\\\FormationDataScientest\\\\DonneesProjet\\\\NewPlantDiseases\\\\train\"\n",
    "#Plant Disease - test\n",
    "pathRep_PD_test = \"D:\\\\Documents\\\\Julie\\\\FormationDataScientest\\\\DonneesProjet\\\\Plant_Disease\\\\dataset\\\\dataset\\\\test\"\n",
    "#Plant Disease - train\n",
    "pathRep_PD_train = \"D:\\\\Documents\\\\Julie\\\\FormationDataScientest\\\\DonneesProjet\\\\Plant_Disease\\\\dataset\\\\dataset\\\\train\"\n",
    "#Plant Village - color\n",
    "pathRep_PV_color = \"D:\\\\Documents\\\\Julie\\\\FormationDataScientest\\\\DonneesProjet\\\\plantVillage\\\\plantvillage dataset\\\\color\"\n",
    "#Plant Village - grayscale\n",
    "pathRep_PV_gray = \"D:\\\\Documents\\\\Julie\\\\FormationDataScientest\\\\DonneesProjet\\\\plantVillage\\\\plantvillage dataset\\\\grayscale\"\n",
    "#Plant Village - segmented\n",
    "pathRep_pv_segm = \"D:\\\\Documents\\\\Julie\\\\FormationDataScientest\\\\DonneesProjet\\\\plantVillage\\\\plantvillage dataset\\\\segmented\"\n",
    "#Répertoire sauvegarde des fichiers csv\n",
    "pathRep_csv = \"D:\\\\Documents\\\\Julie\\\\FormationDataScientest\\\\DonneesProjet\"\n",
    "#Séparateur del 'arborescence pour la construction de FilePath\n",
    "sepArbo = \"\\\\\""
   ]
  },
  {
   "cell_type": "code",
   "execution_count": null,
   "id": "82574927",
   "metadata": {
    "id": "82574927"
   },
   "outputs": [],
   "source": [
    "#ADRESSES DOSSIERS FLORENT\n",
    "#New Plant Disease - valid\n",
    "pathRep_NPD_valid = \"C:\\\\Users\\\\flore\\\\Jupyter\\\\Recog_Plant_Disease\\\\Datasets\\\\NPD\\\\valid\"\n",
    "#New Plant Disease - train\n",
    "pathRep_NPD_train = \"C:\\\\Users\\\\flore\\\\Jupyter\\\\Recog_Plant_Disease\\\\Datasets\\\\NPD\\\\train\"\n",
    "#Plant Disease - test\n",
    "pathRep_PD_test = \"C:\\\\Users\\\\flore\\\\Jupyter\\\\Recog_Plant_Disease\\\\Datasets\\\\PD\\\\test\"\n",
    "#Plant Disease - train\n",
    "pathRep_PD_train = \"C:\\\\Users\\\\flore\\\\Jupyter\\\\Recog_Plant_Disease\\\\Datasets\\\\PD\\\\train\"\n",
    "#Plant Village - color\n",
    "pathRep_PV_color = \"C:\\\\Users\\\\flore\\\\Jupyter\\\\Recog_Plant_Disease\\\\Datasets\\\\PVD\\\\color\"\n",
    "#Plant Village - grayscale\n",
    "pathRep_PV_gray = \"C:\\\\Users\\\\flore\\\\Jupyter\\\\Recog_Plant_Disease\\\\Datasets\\\\PVD\\\\grayscale\"\n",
    "#Plant Village - segmented\n",
    "pathRep_pv_segm = \"C:\\\\Users\\\\flore\\\\Jupyter\\\\Recog_Plant_Disease\\\\Datasets\\\\PVD\\\\segmented\"\n",
    "#Répertoire sauvegarde des fichiers csv\n",
    "pathRep_csv = \"C:\\\\Users\\\\flore\\\\Jupyter\\\\Recog_Plant_Disease\\\\Datasets\"\n",
    "#Séparateur del 'arborescence pour la construction de FilePath\n",
    "sepArbo = \"\\\\\""
   ]
  },
  {
   "cell_type": "code",
   "execution_count": 4,
   "id": "c7afc2e8",
   "metadata": {
    "id": "c7afc2e8"
   },
   "outputs": [],
   "source": [
    "#ADRESSES DOSSIERS HADRIEN\n",
    "#New Plant Disease - valid\n",
    "pathRep_NPD_valid = \"C:\\\\Users\\\\hadri\\\\Plant project\\\\data\\\\1 New Plant Disease\\\\Data\\\\valid\"\n",
    "#New Plant Disease - train\n",
    "pathRep_NPD_train = \"C:\\\\Users\\\\hadri\\\\Plant project\\\\data\\\\1 New Plant Disease\\\\Data\\\\train\"\n",
    "#Plant Disease - test\n",
    "pathRep_PD_test = \"C:\\\\Users\\\\hadri\\\\Plant project\\\\data\\\\1 Plant Disease\\\\Data\\\\test\"\n",
    "#Plant Disease - train\n",
    "pathRep_PD_train = \"C:\\\\Users\\\\hadri\\\\Plant project\\\\data\\\\1 Plant Disease\\\\Data\\\\train\"\n",
    "#Plant Village - color\n",
    "pathRep_PV_color = \"C:\\\\Users\\\\hadri\\\\Plant project\\\\data\\\\1 PlantVillage\\\\Data\\\\color\"\n",
    "#Plant Village - grayscale\n",
    "pathRep_PV_gray = \"C:\\\\Users\\\\hadri\\\\Plant project\\\\data\\\\1 PlantVillage\\\\Data\\\\grayscale\"\n",
    "#Plant Village - segmented\n",
    "pathRep_pv_segm = \"C:\\\\Users\\\\hadri\\\\Plant project\\\\data\\\\1 PlantVillage\\\\Data\\\\segmented\"\n",
    "#Répertoire sauvegarde des fichiers csv\n",
    "pathRep_csv = \"C:\\\\Users\\\\hadri\\\\Plant project\\\\data\"\n",
    "#Séparateur del 'arborescence pour la construction de FilePath\n",
    "sepArbo = \"\\\\\""
   ]
  },
  {
   "cell_type": "code",
   "execution_count": null,
   "id": "zUEYx0hwsCV8",
   "metadata": {
    "executionInfo": {
     "elapsed": 311,
     "status": "ok",
     "timestamp": 1688827130917,
     "user": {
      "displayName": "Julie Le Vu",
      "userId": "14306858844127411712"
     },
     "user_tz": -120
    },
    "id": "zUEYx0hwsCV8"
   },
   "outputs": [],
   "source": [
    "#ADRESSES DOSSIERS COLAB\n",
    "pathRepAutreData = \"/content/data/AutreData\"\n",
    "#New Plant Disease - valid\n",
    "pathRep_NPD_valid = \"/content/data/NPD/valid\"\n",
    "#New Plant Disease - train\n",
    "pathRep_NPD_train = \"/content/data/NPD/train\"\n",
    "#Plant Disease - test\n",
    "pathRep_PD_test = pathRepAutreData\n",
    "#Plant Disease - train\n",
    "pathRep_PD_train = pathRepAutreData\n",
    "#Plant Village - color\n",
    "pathRep_PV_color = pathRepAutreData\n",
    "#Plant Village - grayscale\n",
    "pathRep_PV_gray = pathRepAutreData\n",
    "#Plant Village - segmented\n",
    "pathRep_pv_segm = pathRepAutreData\n",
    "#Répertoire sauvegarde des fichiers csv\n",
    "pathRep_csv = \"/content/drive/MyDrive/ProjetPlantes/Donnees\"\n",
    "#Création des répertoires\n",
    "os.makedirs(\"/content/data/NPD\", exist_ok=True)\n",
    "os.makedirs(\"/content/data/AutreData\", exist_ok=True)\n",
    "#Séparateur del 'arborescence pour la construction de FilePath\n",
    "sepArbo = \"/\""
   ]
  },
  {
   "cell_type": "code",
   "execution_count": null,
   "id": "kuOCGTn27mLp",
   "metadata": {
    "colab": {
     "base_uri": "https://localhost:8080/"
    },
    "executionInfo": {
     "elapsed": 1850,
     "status": "ok",
     "timestamp": 1688827135284,
     "user": {
      "displayName": "Julie Le Vu",
      "userId": "14306858844127411712"
     },
     "user_tz": -120
    },
    "id": "kuOCGTn27mLp",
    "outputId": "64f2390a-575c-4ef2-ea97-8b244fe5b778"
   },
   "outputs": [],
   "source": [
    "#Pour Google Colab, installation du drive\n",
    "#Installation du drive\n",
    "from google.colab import drive\n",
    "drive.mount('/content/drive')\n",
    "#Attention, attente que le Drive soit réellement monté avant de poursuivre"
   ]
  },
  {
   "cell_type": "code",
   "execution_count": null,
   "id": "w0o0aTSksd8O",
   "metadata": {
    "colab": {
     "base_uri": "https://localhost:8080/",
     "height": 1000
    },
    "executionInfo": {
     "elapsed": 221299,
     "status": "ok",
     "timestamp": 1688827361836,
     "user": {
      "displayName": "Julie Le Vu",
      "userId": "14306858844127411712"
     },
     "user_tz": -120
    },
    "id": "w0o0aTSksd8O",
    "outputId": "4fe4832d-c6d1-407b-aa62-a8d7639d025c",
    "scrolled": true
   },
   "outputs": [],
   "source": [
    "#Pour Google Colab, on va importer les données depuis Kaggle en local, mais uniquement pour la base NewPlantDisease\n",
    "#!!! Attention !!! il faut auparavant créer un nouveau token de l'API kaggle depuis le site Kaggle et copier le fichier\n",
    "# généré 'kaggle.json' dans le répertoire /MonDrive/ProjetPlantes/Donnees/Kaggle/kaggle.json de Google Drive\n",
    "\n",
    "#Installation package kaggle\n",
    "! pip install -q kaggle\n",
    "#Création d'un dossier local kaggle\n",
    "! mkdir ~/.kaggle/\n",
    "! cp '/content/drive/MyDrive/ProjetPlantes/Donnees/Kaggle/kaggle.json' ~/.kaggle/\n",
    "#Donner les droits au fichier kaggle.json\n",
    "! chmod 600 ~/.kaggle/kaggle.json\n",
    "#Téléchargement du zip de NewPlantDisease de kaggle en local\n",
    "! kaggle datasets download -d vipoooool/new-plant-diseases-dataset\n",
    "#Dézippage du fichier précédemment téléchargé\n",
    "! unzip /content/new-plant-diseases-dataset.zip -d /content/data/NPD\n",
    "#Déplacement des fichiers dans les répertoires cibles\n",
    "shutil.move(\"/content/data/NPD/New Plant Diseases Dataset(Augmented)/New Plant Diseases Dataset(Augmented)/valid\", pathRep_NPD_valid)\n",
    "shutil.move(\"/content/data/NPD/New Plant Diseases Dataset(Augmented)/New Plant Diseases Dataset(Augmented)/train\",pathRep_NPD_train)\n"
   ]
  },
  {
   "cell_type": "code",
   "execution_count": 5,
   "id": "df68e467",
   "metadata": {
    "executionInfo": {
     "elapsed": 542,
     "status": "ok",
     "timestamp": 1688827535363,
     "user": {
      "displayName": "Julie Le Vu",
      "userId": "14306858844127411712"
     },
     "user_tz": -120
    },
    "id": "df68e467"
   },
   "outputs": [],
   "source": [
    "df_KaggleData = load_data_kaggle(pathRep_NPD_valid, df_KaggleData, 'NewPlantDisease', 'valid')\n",
    "df_KaggleData = load_data_kaggle(pathRep_NPD_train, df_KaggleData, 'NewPlantDisease', 'train')\n",
    "df_KaggleData = load_data_kaggle(pathRep_PD_test, df_KaggleData, 'PlantDisease', 'test')\n",
    "df_KaggleData = load_data_kaggle(pathRep_PD_train, df_KaggleData, 'PlantDisease', 'train')\n",
    "df_KaggleData = load_data_kaggle(pathRep_PV_color, df_KaggleData, 'PlantVillage', 'color')\n",
    "df_KaggleData = load_data_kaggle(pathRep_PV_gray, df_KaggleData, 'PlantVillage', 'grayscale')\n",
    "df_KaggleData = load_data_kaggle(pathRep_pv_segm, df_KaggleData, 'PlantVillage', 'segmented')"
   ]
  },
  {
   "cell_type": "markdown",
   "id": "9cc84aac",
   "metadata": {
    "id": "9cc84aac"
   },
   "source": [
    "### 1.2 Création des colonnes supplémentaires"
   ]
  },
  {
   "cell_type": "code",
   "execution_count": 6,
   "id": "753018d0",
   "metadata": {
    "executionInfo": {
     "elapsed": 310,
     "status": "ok",
     "timestamp": 1688827537413,
     "user": {
      "displayName": "Julie Le Vu",
      "userId": "14306858844127411712"
     },
     "user_tz": -120
    },
    "id": "753018d0"
   },
   "outputs": [],
   "source": [
    "#Ajout d'une colonne catégorie\n",
    "df_KaggleData['Categorie'] = df_KaggleData['Plante'] + '__' + df_KaggleData['Maladie']"
   ]
  },
  {
   "cell_type": "code",
   "execution_count": 7,
   "id": "2cbbe295",
   "metadata": {
    "executionInfo": {
     "elapsed": 273,
     "status": "ok",
     "timestamp": 1688827539645,
     "user": {
      "displayName": "Julie Le Vu",
      "userId": "14306858844127411712"
     },
     "user_tz": -120
    },
    "id": "2cbbe295"
   },
   "outputs": [],
   "source": [
    "#Ajout d'une colonne Saine indiquant si la plante est malade ou non\n",
    "df_KaggleData['Saine'] = np.where(df_KaggleData['Maladie'] == 'healthy', 1, 0)"
   ]
  },
  {
   "cell_type": "code",
   "execution_count": 8,
   "id": "df1800ff",
   "metadata": {
    "executionInfo": {
     "elapsed": 197,
     "status": "ok",
     "timestamp": 1688827541100,
     "user": {
      "displayName": "Julie Le Vu",
      "userId": "14306858844127411712"
     },
     "user_tz": -120
    },
    "id": "df1800ff"
   },
   "outputs": [],
   "source": [
    "#Ajout d'une colonne FilePath pour accès plus rapide lors du parcours\n",
    "df_KaggleData['FilePath'] = df_KaggleData['DirPath'] + sepArbo + df_KaggleData['FileName']"
   ]
  },
  {
   "cell_type": "code",
   "execution_count": 9,
   "id": "936bc774",
   "metadata": {
    "executionInfo": {
     "elapsed": 277,
     "status": "ok",
     "timestamp": 1688827542273,
     "user": {
      "displayName": "Julie Le Vu",
      "userId": "14306858844127411712"
     },
     "user_tz": -120
    },
    "id": "936bc774"
   },
   "outputs": [],
   "source": [
    "#Réordonnencement des colonnes\n",
    "df_KaggleData = df_KaggleData[['Categorie', 'Plante', 'Maladie', 'Saine', 'Dataset', 'Set', 'DirPath', 'FileName', 'FilePath']]"
   ]
  },
  {
   "cell_type": "markdown",
   "id": "59d73554",
   "metadata": {
    "id": "59d73554"
   },
   "source": [
    "## 2 Définition des fonctions communes utiles"
   ]
  },
  {
   "cell_type": "markdown",
   "id": "effcb41e",
   "metadata": {
    "id": "effcb41e"
   },
   "source": [
    "### 2.1 Extraction des informations du nom du fichier\n",
    "**Attention ces fonctions n'ont été testées que sur la base restreinte à 'New Plant Diseases'**"
   ]
  },
  {
   "cell_type": "code",
   "execution_count": 10,
   "id": "6fc3398d",
   "metadata": {
    "executionInfo": {
     "elapsed": 308,
     "status": "ok",
     "timestamp": 1688827548182,
     "user": {
      "displayName": "Julie Le Vu",
      "userId": "14306858844127411712"
     },
     "user_tz": -120
    },
    "id": "6fc3398d"
   },
   "outputs": [],
   "source": [
    "#Fonction de décomposition du nom du fichier\n",
    "def DecomposNomFichier(nom):\n",
    "    #La partie avant les caractères \"___\" n'a pas d'intérêt. Récupération de la partie après (attention aux noms sans 1ere partie)\n",
    "    if(nom.find('___') != -1):\n",
    "        paramNom = nom.split(sep='___')[1]\n",
    "    else:\n",
    "        paramNom = nom\n",
    "\n",
    "    #la partie après les caractères est du type TTT_mmm 9999[_suffixe].JPG où suffixe n'existe que pour les images ajoutées à la base PlantVillage\n",
    "    #décomposition de cette partie. On ne gardera que le 2 abréviations  TTT et mmm\n",
    "    decomp = paramNom.split(sep=' ')\n",
    "    #cas particulier des photos sans nom de la maladie\n",
    "    if((decomp[0]).find('_') != -1):\n",
    "        abrev = (decomp[0]).split(sep='_')[0]\n",
    "        abrevMaladie = (decomp[0]).split(sep='_')[1]\n",
    "    else:\n",
    "        abrev = decomp[0]\n",
    "        abrevMaladie = ''\n",
    "\n",
    "    #vérification de la présence d'un suffixe - cas de noms avec plusieurs espaces. Le suffixe est sur le dernier nom\n",
    "    if (decomp[-1].find('_') != -1):\n",
    "        # il y a un suffixe ; il est de la forme pour les rotations 9999_newPixel25, 9999_999deg.JPG ou 9999_new99deg.JPG\n",
    "        # le suffixe peut être également une symétrie gauche-droite ou haut-bas 9999_flipXX\n",
    "        suffixe = (decomp[-1].split('_')[1]).lower()\n",
    "\n",
    "        #recherche du type de suffixe présent\n",
    "        if(suffixe.find('deg') != -1):\n",
    "            #suffixe de rotation ; recherche de l'angle de rotation (partie numérique du suffixe)\n",
    "            rotation = ''.join(c for c in suffixe if c.isdigit())\n",
    "        else:\n",
    "            rotation = 0\n",
    "\n",
    "        if((suffixe.find('pixel') != -1) or (suffixe.find('ggr') != -1) or (suffixe.find('grr') != -1)):\n",
    "            #suffixe de luminosite une photo a au plus une seule de ces modifications\n",
    "            if (suffixe.find('pixel') != -1):\n",
    "                # recherche du nombre de pixel\n",
    "                luminosite = ''.join(c for c in suffixe if c.isdigit())\n",
    "            elif(suffixe.find('ggr') != -1):\n",
    "                luminosite = \"GGR\"\n",
    "            else:\n",
    "                luminosite = \"GRR\"\n",
    "        else:\n",
    "            luminosite = 0\n",
    "\n",
    "        if (suffixe.find('flip') != -1):\n",
    "            #suffixe de symétrie (flipTB ou flipLR) - le sens correspond aux 2 caractères suivants\n",
    "            index = suffixe.lower().find('flip')\n",
    "            symetrie = suffixe[index + 4 : index + 6].upper()\n",
    "        else:\n",
    "            symetrie = 0\n",
    "\n",
    "    else:\n",
    "        # il n'y a pas de suffixe, il n'y a donc pas de rotation\n",
    "        rotation = 0\n",
    "        luminosite = 0\n",
    "        symetrie = 0\n",
    "        suffixe = ''\n",
    "\n",
    "    return suffixe, abrev, abrevMaladie, rotation, luminosite, symetrie"
   ]
  },
  {
   "cell_type": "code",
   "execution_count": 11,
   "id": "622e5468",
   "metadata": {
    "executionInfo": {
     "elapsed": 184,
     "status": "ok",
     "timestamp": 1688827552788,
     "user": {
      "displayName": "Julie Le Vu",
      "userId": "14306858844127411712"
     },
     "user_tz": -120
    },
    "id": "622e5468"
   },
   "outputs": [],
   "source": [
    "#Fonction de chargement des données extraites du nom de fichier dans un dataframe\n",
    "def load_filename_data(dataframe):\n",
    "    #Initialisation des listes pour les nouvelles colonnes\n",
    "    lstSuffixe = []\n",
    "    lstAbrev = []\n",
    "    lstAbrevMaladie = []\n",
    "    lstRotation = []\n",
    "    lstLuminosite = []\n",
    "    lstSymetrie = []\n",
    "    lstSaine = []\n",
    "\n",
    "    #Parcours de tous les noms de fichier pour effectuer la décomposition\n",
    "    for ligne in tqdm(dataframe['FileName']):\n",
    "        suffixe, abrev, abrevMaladie, rotation, luminosite, symetrie = DecomposNomFichier(ligne)\n",
    "        lstSuffixe.append(suffixe)\n",
    "        lstAbrev.append(abrev)\n",
    "        lstAbrevMaladie.append(abrevMaladie)\n",
    "        lstRotation.append(rotation)\n",
    "        lstLuminosite.append(luminosite)\n",
    "        lstSymetrie.append(symetrie)\n",
    "        if (abrevMaladie.upper() == \"HL\"):\n",
    "            lstSaine.append(1)\n",
    "        else:\n",
    "            lstSaine.append(0)\n",
    "\n",
    "    #Création des nouvelles colonnes\n",
    "    dataframe[\"Suffixe\"] = lstSuffixe\n",
    "    dataframe[\"Abrev\"]= lstAbrev\n",
    "    dataframe[\"AbrevMaladie\"]= lstAbrevMaladie\n",
    "    dataframe[\"Rotation\"] = lstRotation\n",
    "    dataframe[\"Luminosite\"] = lstLuminosite\n",
    "    dataframe[\"Symetrie\"] = lstSymetrie\n",
    "    dataframe[\"Saine_file\"] = lstSaine\n",
    "\n",
    "    return dataframe"
   ]
  },
  {
   "cell_type": "markdown",
   "id": "3b757256",
   "metadata": {
    "id": "3b757256"
   },
   "source": [
    "### 2.1 Extraction des informations des images"
   ]
  },
  {
   "cell_type": "code",
   "execution_count": 12,
   "id": "f866b0ad",
   "metadata": {
    "executionInfo": {
     "elapsed": 308,
     "status": "ok",
     "timestamp": 1688827559972,
     "user": {
      "displayName": "Julie Le Vu",
      "userId": "14306858844127411712"
     },
     "user_tz": -120
    },
    "id": "f866b0ad"
   },
   "outputs": [],
   "source": [
    "#Extraction des informations de qualité d'images\n",
    "def extract_image_properties(image_path):\n",
    "    # Charger l'image avec OpenCV\n",
    "    image = cv2.imread(image_path)\n",
    "\n",
    "    # Dimensions de l'image\n",
    "    height, width, channels = image.shape\n",
    "\n",
    "    # Taille du fichier\n",
    "    size_bytes = os.path.getsize(image_path)\n",
    "\n",
    "    # Mode, profondeur de couleur\n",
    "    img_pil = Image.fromarray(image)\n",
    "    mode = img_pil.mode\n",
    "    profondeur_couleur = image.dtype.itemsize * 8\n",
    "\n",
    "    # Propriétés de couleurs de l'image\n",
    "    b, g, r = cv2.split(image)\n",
    "    moyenneR = r.mean()\n",
    "    moyenneG = g.mean()\n",
    "    moyenneB = b.mean()\n",
    "\n",
    "    return height, width, channels, size_bytes, mode, profondeur_couleur, moyenneR, moyenneG, moyenneB"
   ]
  },
  {
   "cell_type": "code",
   "execution_count": 13,
   "id": "52410ac3",
   "metadata": {
    "executionInfo": {
     "elapsed": 5,
     "status": "ok",
     "timestamp": 1688827563282,
     "user": {
      "displayName": "Julie Le Vu",
      "userId": "14306858844127411712"
     },
     "user_tz": -120
    },
    "id": "52410ac3"
   },
   "outputs": [],
   "source": [
    "#Fonction de chargement des informations liées aux images dans un Dataframe\n",
    "def load_image_data(dataframe):\n",
    "\n",
    "    # Initialisation d'une liste pour stocker les résultats temporaires\n",
    "    temp_results = []\n",
    "\n",
    "    # Parcours de tous les noms de fichier pour effectuer les extractions\n",
    "    for filepath in tqdm(dataframe['FilePath']):\n",
    "        height, width, channels, size_bytes, mode, profondeur_couleur, moyenneR, moyenneG, moyenneB = extract_image_properties(filepath)\n",
    "        temp_results.append([height, width, channels, size_bytes, mode, profondeur_couleur, moyenneR, moyenneG, moyenneB])\n",
    "\n",
    "    # Conversion des résultats en DataFrame et attribution des noms de colonnes\n",
    "    df_temp = pd.DataFrame(temp_results, columns=['Hauteur', 'Largeur', 'Canaux', 'Taille du fichier', 'Mode', 'Profondeur de couleur', 'Moyenne R', 'Moyenne G', 'Moyenne B'])\n",
    "\n",
    "    # Concaténation du DataFrame temporaire au DataFrame original\n",
    "    return pd.concat([dataframe, df_temp], axis=1)"
   ]
  },
  {
   "cell_type": "markdown",
   "id": "5a5900da",
   "metadata": {
    "id": "5a5900da"
   },
   "source": [
    "## 3 Création d'un dataframe restreint à la base 'New Plant Disease'"
   ]
  },
  {
   "cell_type": "markdown",
   "id": "71c0e672",
   "metadata": {
    "id": "71c0e672"
   },
   "source": [
    "### 3.1 Slicing du dataframe général et suppression de la colonne 'Dataset'"
   ]
  },
  {
   "cell_type": "code",
   "execution_count": 14,
   "id": "61be3139",
   "metadata": {
    "executionInfo": {
     "elapsed": 182,
     "status": "ok",
     "timestamp": 1688827577394,
     "user": {
      "displayName": "Julie Le Vu",
      "userId": "14306858844127411712"
     },
     "user_tz": -120
    },
    "id": "61be3139"
   },
   "outputs": [],
   "source": [
    "#Création d'un nouveau DataFrame qui ne contiendra que la Database NewPlantDiseases\n",
    "df_NPD = df_KaggleData[(df_KaggleData[\"Dataset\"] == \"NewPlantDisease\")]\n",
    "#Suppression de la colonne 'Dataset' inutile dans ce dataframe\n",
    "df_NPD = df_NPD.drop('Dataset', axis = 1)"
   ]
  },
  {
   "cell_type": "markdown",
   "id": "198d224d",
   "metadata": {
    "id": "198d224d"
   },
   "source": [
    "### 3.2 Importation des informations issues du nom de fichier"
   ]
  },
  {
   "cell_type": "code",
   "execution_count": 15,
   "id": "3997ff5a",
   "metadata": {
    "colab": {
     "base_uri": "https://localhost:8080/"
    },
    "executionInfo": {
     "elapsed": 779,
     "status": "ok",
     "timestamp": 1688827581939,
     "user": {
      "displayName": "Julie Le Vu",
      "userId": "14306858844127411712"
     },
     "user_tz": -120
    },
    "id": "3997ff5a",
    "outputId": "df9c4d94-d175-4d13-c3b9-3f3a2c5f291e"
   },
   "outputs": [
    {
     "name": "stderr",
     "output_type": "stream",
     "text": [
      "100%|██████████| 87867/87867 [00:00<00:00, 404749.83it/s]\n"
     ]
    }
   ],
   "source": [
    "df_NPD = load_filename_data(df_NPD)"
   ]
  },
  {
   "cell_type": "markdown",
   "id": "ef67522d",
   "metadata": {
    "id": "ef67522d"
   },
   "source": [
    "### 3.3 Importation des informations issues des images"
   ]
  },
  {
   "cell_type": "code",
   "execution_count": 16,
   "id": "47b0af8c",
   "metadata": {
    "colab": {
     "base_uri": "https://localhost:8080/",
     "height": 328
    },
    "executionInfo": {
     "elapsed": 258,
     "status": "error",
     "timestamp": 1688735500083,
     "user": {
      "displayName": "Julie Le Vu",
      "userId": "14306858844127411712"
     },
     "user_tz": -120
    },
    "id": "47b0af8c",
    "outputId": "9b9984ba-f5ee-44af-8a94-be0f2d60556b"
   },
   "outputs": [
    {
     "name": "stderr",
     "output_type": "stream",
     "text": [
      "100%|██████████| 87867/87867 [01:39<00:00, 882.14it/s] \n"
     ]
    }
   ],
   "source": [
    "df_NPD = load_image_data(df_NPD) #L'exécution prend plusieurs minutes"
   ]
  },
  {
   "cell_type": "markdown",
   "id": "ca252e2c",
   "metadata": {
    "id": "ca252e2c"
   },
   "source": [
    "### 3.4 Nettoyage des données (intrus, mauvaises classifications, etc.)"
   ]
  },
  {
   "cell_type": "code",
   "execution_count": 17,
   "id": "8615af40",
   "metadata": {
    "colab": {
     "base_uri": "https://localhost:8080/",
     "height": 143
    },
    "executionInfo": {
     "elapsed": 307,
     "status": "ok",
     "timestamp": 1688827590465,
     "user": {
      "displayName": "Julie Le Vu",
      "userId": "14306858844127411712"
     },
     "user_tz": -120
    },
    "id": "8615af40",
    "outputId": "77df27f5-f264-4a18-e7e0-a4e3f3b3f7eb"
   },
   "outputs": [
    {
     "data": {
      "text/html": [
       "<div>\n",
       "<style scoped>\n",
       "    .dataframe tbody tr th:only-of-type {\n",
       "        vertical-align: middle;\n",
       "    }\n",
       "\n",
       "    .dataframe tbody tr th {\n",
       "        vertical-align: top;\n",
       "    }\n",
       "\n",
       "    .dataframe thead th {\n",
       "        text-align: right;\n",
       "    }\n",
       "</style>\n",
       "<table border=\"1\" class=\"dataframe\">\n",
       "  <thead>\n",
       "    <tr style=\"text-align: right;\">\n",
       "      <th>Saine_file</th>\n",
       "      <th>0</th>\n",
       "      <th>1</th>\n",
       "    </tr>\n",
       "    <tr>\n",
       "      <th>Saine</th>\n",
       "      <th></th>\n",
       "      <th></th>\n",
       "    </tr>\n",
       "  </thead>\n",
       "  <tbody>\n",
       "    <tr>\n",
       "      <th>0</th>\n",
       "      <td>59999</td>\n",
       "      <td>2</td>\n",
       "    </tr>\n",
       "    <tr>\n",
       "      <th>1</th>\n",
       "      <td>3</td>\n",
       "      <td>27863</td>\n",
       "    </tr>\n",
       "  </tbody>\n",
       "</table>\n",
       "</div>"
      ],
      "text/plain": [
       "Saine_file      0      1\n",
       "Saine                   \n",
       "0           59999      2\n",
       "1               3  27863"
      ]
     },
     "execution_count": 17,
     "metadata": {},
     "output_type": "execute_result"
    }
   ],
   "source": [
    "#Comparaison des données de santée issues du nom de fichier ('Saine') et du nom de répertoire ('Saine')\n",
    "pd.crosstab(df_NPD['Saine'], df_NPD['Saine_file'])"
   ]
  },
  {
   "cell_type": "code",
   "execution_count": 18,
   "id": "1bb9b5fa",
   "metadata": {
    "colab": {
     "base_uri": "https://localhost:8080/",
     "height": 391
    },
    "executionInfo": {
     "elapsed": 317,
     "status": "ok",
     "timestamp": 1688827598263,
     "user": {
      "displayName": "Julie Le Vu",
      "userId": "14306858844127411712"
     },
     "user_tz": -120
    },
    "id": "1bb9b5fa",
    "outputId": "8f27c4a9-07a3-45d9-8f80-9de30c93f8cf"
   },
   "outputs": [
    {
     "data": {
      "text/html": [
       "<div>\n",
       "<style scoped>\n",
       "    .dataframe tbody tr th:only-of-type {\n",
       "        vertical-align: middle;\n",
       "    }\n",
       "\n",
       "    .dataframe tbody tr th {\n",
       "        vertical-align: top;\n",
       "    }\n",
       "\n",
       "    .dataframe thead th {\n",
       "        text-align: right;\n",
       "    }\n",
       "</style>\n",
       "<table border=\"1\" class=\"dataframe\">\n",
       "  <thead>\n",
       "    <tr style=\"text-align: right;\">\n",
       "      <th></th>\n",
       "      <th>Categorie</th>\n",
       "      <th>Plante</th>\n",
       "      <th>Maladie</th>\n",
       "      <th>Saine</th>\n",
       "      <th>Set</th>\n",
       "      <th>DirPath</th>\n",
       "      <th>FileName</th>\n",
       "      <th>FilePath</th>\n",
       "      <th>Suffixe</th>\n",
       "      <th>Abrev</th>\n",
       "      <th>...</th>\n",
       "      <th>Saine_file</th>\n",
       "      <th>Hauteur</th>\n",
       "      <th>Largeur</th>\n",
       "      <th>Canaux</th>\n",
       "      <th>Taille du fichier</th>\n",
       "      <th>Mode</th>\n",
       "      <th>Profondeur de couleur</th>\n",
       "      <th>Moyenne R</th>\n",
       "      <th>Moyenne G</th>\n",
       "      <th>Moyenne B</th>\n",
       "    </tr>\n",
       "  </thead>\n",
       "  <tbody>\n",
       "    <tr>\n",
       "      <th>14770</th>\n",
       "      <td>Tomato__Late_blight</td>\n",
       "      <td>Tomato</td>\n",
       "      <td>Late_blight</td>\n",
       "      <td>0</td>\n",
       "      <td>valid</td>\n",
       "      <td>C:\\Users\\hadri\\Plant project\\data\\1 New Plant ...</td>\n",
       "      <td>d674cbf6-0cdc-407a-97ea-c3f53f2c51e4___GH_HL L...</td>\n",
       "      <td>C:\\Users\\hadri\\Plant project\\data\\1 New Plant ...</td>\n",
       "      <td></td>\n",
       "      <td>GH</td>\n",
       "      <td>...</td>\n",
       "      <td>1</td>\n",
       "      <td>256</td>\n",
       "      <td>256</td>\n",
       "      <td>3</td>\n",
       "      <td>14318</td>\n",
       "      <td>RGB</td>\n",
       "      <td>8</td>\n",
       "      <td>114.784866</td>\n",
       "      <td>119.643845</td>\n",
       "      <td>117.576004</td>\n",
       "    </tr>\n",
       "    <tr>\n",
       "      <th>53282</th>\n",
       "      <td>Pepper,_bell__healthy</td>\n",
       "      <td>Pepper,_bell</td>\n",
       "      <td>healthy</td>\n",
       "      <td>1</td>\n",
       "      <td>train</td>\n",
       "      <td>C:\\Users\\hadri\\Plant project\\data\\1 New Plant ...</td>\n",
       "      <td>3306b49b-e3b3-4450-8609-ae44ab2b6593___bell-pe...</td>\n",
       "      <td>C:\\Users\\hadri\\Plant project\\data\\1 New Plant ...</td>\n",
       "      <td></td>\n",
       "      <td>bell-pepper-plant-61726.jpg</td>\n",
       "      <td>...</td>\n",
       "      <td>0</td>\n",
       "      <td>256</td>\n",
       "      <td>256</td>\n",
       "      <td>3</td>\n",
       "      <td>17151</td>\n",
       "      <td>RGB</td>\n",
       "      <td>8</td>\n",
       "      <td>74.126404</td>\n",
       "      <td>101.970703</td>\n",
       "      <td>31.534180</td>\n",
       "    </tr>\n",
       "    <tr>\n",
       "      <th>74107</th>\n",
       "      <td>Tomato__healthy</td>\n",
       "      <td>Tomato</td>\n",
       "      <td>healthy</td>\n",
       "      <td>1</td>\n",
       "      <td>train</td>\n",
       "      <td>C:\\Users\\hadri\\Plant project\\data\\1 New Plant ...</td>\n",
       "      <td>4959798b-5c9b-4f8e-b0a0-3778259614b1___CG1.JPG</td>\n",
       "      <td>C:\\Users\\hadri\\Plant project\\data\\1 New Plant ...</td>\n",
       "      <td></td>\n",
       "      <td>CG1.JPG</td>\n",
       "      <td>...</td>\n",
       "      <td>0</td>\n",
       "      <td>256</td>\n",
       "      <td>256</td>\n",
       "      <td>3</td>\n",
       "      <td>10861</td>\n",
       "      <td>RGB</td>\n",
       "      <td>8</td>\n",
       "      <td>131.453140</td>\n",
       "      <td>136.712845</td>\n",
       "      <td>125.183929</td>\n",
       "    </tr>\n",
       "    <tr>\n",
       "      <th>74436</th>\n",
       "      <td>Tomato__healthy</td>\n",
       "      <td>Tomato</td>\n",
       "      <td>healthy</td>\n",
       "      <td>1</td>\n",
       "      <td>train</td>\n",
       "      <td>C:\\Users\\hadri\\Plant project\\data\\1 New Plant ...</td>\n",
       "      <td>7de93009-6180-4027-8779-76947cda3e2f___2700323...</td>\n",
       "      <td>C:\\Users\\hadri\\Plant project\\data\\1 New Plant ...</td>\n",
       "      <td>95aa2eaa01</td>\n",
       "      <td>2700323949</td>\n",
       "      <td>...</td>\n",
       "      <td>0</td>\n",
       "      <td>256</td>\n",
       "      <td>256</td>\n",
       "      <td>3</td>\n",
       "      <td>10096</td>\n",
       "      <td>RGB</td>\n",
       "      <td>8</td>\n",
       "      <td>160.202286</td>\n",
       "      <td>124.502197</td>\n",
       "      <td>112.196518</td>\n",
       "    </tr>\n",
       "    <tr>\n",
       "      <th>76605</th>\n",
       "      <td>Tomato__Late_blight</td>\n",
       "      <td>Tomato</td>\n",
       "      <td>Late_blight</td>\n",
       "      <td>0</td>\n",
       "      <td>train</td>\n",
       "      <td>C:\\Users\\hadri\\Plant project\\data\\1 New Plant ...</td>\n",
       "      <td>cb3bd866-dd84-4f7e-9226-b4a2a2c7f2ae___GH_HL L...</td>\n",
       "      <td>C:\\Users\\hadri\\Plant project\\data\\1 New Plant ...</td>\n",
       "      <td></td>\n",
       "      <td>GH</td>\n",
       "      <td>...</td>\n",
       "      <td>1</td>\n",
       "      <td>256</td>\n",
       "      <td>256</td>\n",
       "      <td>3</td>\n",
       "      <td>12847</td>\n",
       "      <td>RGB</td>\n",
       "      <td>8</td>\n",
       "      <td>107.044052</td>\n",
       "      <td>111.689423</td>\n",
       "      <td>106.197418</td>\n",
       "    </tr>\n",
       "  </tbody>\n",
       "</table>\n",
       "<p>5 rows × 24 columns</p>\n",
       "</div>"
      ],
      "text/plain": [
       "                   Categorie        Plante      Maladie  Saine    Set  \\\n",
       "14770    Tomato__Late_blight        Tomato  Late_blight      0  valid   \n",
       "53282  Pepper,_bell__healthy  Pepper,_bell      healthy      1  train   \n",
       "74107        Tomato__healthy        Tomato      healthy      1  train   \n",
       "74436        Tomato__healthy        Tomato      healthy      1  train   \n",
       "76605    Tomato__Late_blight        Tomato  Late_blight      0  train   \n",
       "\n",
       "                                                 DirPath  \\\n",
       "14770  C:\\Users\\hadri\\Plant project\\data\\1 New Plant ...   \n",
       "53282  C:\\Users\\hadri\\Plant project\\data\\1 New Plant ...   \n",
       "74107  C:\\Users\\hadri\\Plant project\\data\\1 New Plant ...   \n",
       "74436  C:\\Users\\hadri\\Plant project\\data\\1 New Plant ...   \n",
       "76605  C:\\Users\\hadri\\Plant project\\data\\1 New Plant ...   \n",
       "\n",
       "                                                FileName  \\\n",
       "14770  d674cbf6-0cdc-407a-97ea-c3f53f2c51e4___GH_HL L...   \n",
       "53282  3306b49b-e3b3-4450-8609-ae44ab2b6593___bell-pe...   \n",
       "74107     4959798b-5c9b-4f8e-b0a0-3778259614b1___CG1.JPG   \n",
       "74436  7de93009-6180-4027-8779-76947cda3e2f___2700323...   \n",
       "76605  cb3bd866-dd84-4f7e-9226-b4a2a2c7f2ae___GH_HL L...   \n",
       "\n",
       "                                                FilePath     Suffixe  \\\n",
       "14770  C:\\Users\\hadri\\Plant project\\data\\1 New Plant ...               \n",
       "53282  C:\\Users\\hadri\\Plant project\\data\\1 New Plant ...               \n",
       "74107  C:\\Users\\hadri\\Plant project\\data\\1 New Plant ...               \n",
       "74436  C:\\Users\\hadri\\Plant project\\data\\1 New Plant ...  95aa2eaa01   \n",
       "76605  C:\\Users\\hadri\\Plant project\\data\\1 New Plant ...               \n",
       "\n",
       "                             Abrev  ... Saine_file Hauteur Largeur Canaux  \\\n",
       "14770                           GH  ...          1     256     256      3   \n",
       "53282  bell-pepper-plant-61726.jpg  ...          0     256     256      3   \n",
       "74107                      CG1.JPG  ...          0     256     256      3   \n",
       "74436                   2700323949  ...          0     256     256      3   \n",
       "76605                           GH  ...          1     256     256      3   \n",
       "\n",
       "       Taille du fichier  Mode  Profondeur de couleur   Moyenne R   Moyenne G  \\\n",
       "14770              14318   RGB                      8  114.784866  119.643845   \n",
       "53282              17151   RGB                      8   74.126404  101.970703   \n",
       "74107              10861   RGB                      8  131.453140  136.712845   \n",
       "74436              10096   RGB                      8  160.202286  124.502197   \n",
       "76605              12847   RGB                      8  107.044052  111.689423   \n",
       "\n",
       "        Moyenne B  \n",
       "14770  117.576004  \n",
       "53282   31.534180  \n",
       "74107  125.183929  \n",
       "74436  112.196518  \n",
       "76605  106.197418  \n",
       "\n",
       "[5 rows x 24 columns]"
      ]
     },
     "execution_count": 18,
     "metadata": {},
     "output_type": "execute_result"
    }
   ],
   "source": [
    "#Affichage des 5 mauvaises classifications\n",
    "df_NPD[df_NPD['Saine'] != df_NPD['Saine_file']]"
   ]
  },
  {
   "cell_type": "code",
   "execution_count": 19,
   "id": "ac9e2eac",
   "metadata": {
    "executionInfo": {
     "elapsed": 182,
     "status": "ok",
     "timestamp": 1688827601589,
     "user": {
      "displayName": "Julie Le Vu",
      "userId": "14306858844127411712"
     },
     "user_tz": -120
    },
    "id": "ac9e2eac"
   },
   "outputs": [],
   "source": [
    "#Suppression dans df_NPD de la ligne avec la photo du poivron\n",
    "df_NPD = df_NPD.drop(df_NPD[df_NPD['FileName']=='3306b49b-e3b3-4450-8609-ae44ab2b6593___bell-pepper-plant-61726.jpg'].index)\n",
    "#Suppression dans df_NPD de la ligne avec la photo de la tomate\n",
    "df_NPD = df_NPD.drop(df_NPD[df_NPD['FileName']=='7de93009-6180-4027-8779-76947cda3e2f___2700323949_95aa2eaa01_o.jpg'].index)\n",
    "#Suppression des 2 feuilles dans df_NPD qui sont dans un répertoire non 'Saine' et qui sont indiquées saines\n",
    "df_NPD = df_NPD.drop(df_NPD[(df_NPD['Maladie'] != 'healthy') & (df_NPD['Saine_file'] == 1)].index)"
   ]
  },
  {
   "cell_type": "code",
   "execution_count": 20,
   "id": "31c51a47",
   "metadata": {
    "executionInfo": {
     "elapsed": 183,
     "status": "ok",
     "timestamp": 1688827603108,
     "user": {
      "displayName": "Julie Le Vu",
      "userId": "14306858844127411712"
     },
     "user_tz": -120
    },
    "id": "31c51a47"
   },
   "outputs": [],
   "source": [
    "#Modification des valeurs de saine et AbrevMaladie pour la feuille avec le nom non normé\n",
    "indexFeuille = df_NPD.loc[(df_NPD['FileName'] == \"4959798b-5c9b-4f8e-b0a0-3778259614b1___CG1.JPG\")].index[0]\n",
    "df_NPD.at[indexFeuille,'Saine_file'] = 1\n",
    "df_NPD.at[indexFeuille,'AbrevMaladie'] = \"HL\""
   ]
  },
  {
   "cell_type": "code",
   "execution_count": 21,
   "id": "c3fbe18c",
   "metadata": {
    "colab": {
     "base_uri": "https://localhost:8080/",
     "height": 143
    },
    "executionInfo": {
     "elapsed": 189,
     "status": "ok",
     "timestamp": 1688827604147,
     "user": {
      "displayName": "Julie Le Vu",
      "userId": "14306858844127411712"
     },
     "user_tz": -120
    },
    "id": "c3fbe18c",
    "outputId": "42408809-0213-46d3-a469-372c3d6430bf"
   },
   "outputs": [
    {
     "data": {
      "text/html": [
       "<div>\n",
       "<style scoped>\n",
       "    .dataframe tbody tr th:only-of-type {\n",
       "        vertical-align: middle;\n",
       "    }\n",
       "\n",
       "    .dataframe tbody tr th {\n",
       "        vertical-align: top;\n",
       "    }\n",
       "\n",
       "    .dataframe thead th {\n",
       "        text-align: right;\n",
       "    }\n",
       "</style>\n",
       "<table border=\"1\" class=\"dataframe\">\n",
       "  <thead>\n",
       "    <tr style=\"text-align: right;\">\n",
       "      <th>Saine_file</th>\n",
       "      <th>0</th>\n",
       "      <th>1</th>\n",
       "    </tr>\n",
       "    <tr>\n",
       "      <th>Saine</th>\n",
       "      <th></th>\n",
       "      <th></th>\n",
       "    </tr>\n",
       "  </thead>\n",
       "  <tbody>\n",
       "    <tr>\n",
       "      <th>0</th>\n",
       "      <td>59999</td>\n",
       "      <td>0</td>\n",
       "    </tr>\n",
       "    <tr>\n",
       "      <th>1</th>\n",
       "      <td>0</td>\n",
       "      <td>27864</td>\n",
       "    </tr>\n",
       "  </tbody>\n",
       "</table>\n",
       "</div>"
      ],
      "text/plain": [
       "Saine_file      0      1\n",
       "Saine                   \n",
       "0           59999      0\n",
       "1               0  27864"
      ]
     },
     "execution_count": 21,
     "metadata": {},
     "output_type": "execute_result"
    }
   ],
   "source": [
    "pd.crosstab(df_NPD['Saine'], df_NPD['Saine_file'])"
   ]
  },
  {
   "cell_type": "code",
   "execution_count": 22,
   "id": "3257343b",
   "metadata": {
    "executionInfo": {
     "elapsed": 296,
     "status": "ok",
     "timestamp": 1688827608915,
     "user": {
      "displayName": "Julie Le Vu",
      "userId": "14306858844127411712"
     },
     "user_tz": -120
    },
    "id": "3257343b"
   },
   "outputs": [],
   "source": [
    "#Suppression de la colonne 'Saine-file'\n",
    "df_NPD = df_NPD.drop('Saine_file', axis = 1)"
   ]
  },
  {
   "cell_type": "code",
   "execution_count": 23,
   "id": "8b49143c",
   "metadata": {
    "id": "8b49143c"
   },
   "outputs": [],
   "source": [
    "#Réordonnencement des colonnes\n",
    "#Liste des colonnes dans l'ordre désiré\n",
    "new_order = ['Categorie', 'Plante', 'Maladie', 'Saine', 'Suffixe', 'Abrev', 'AbrevMaladie', 'Rotation',\n",
    "             'Luminosite', 'Symetrie', 'Hauteur', 'Largeur', 'Canaux', 'Mode', 'Profondeur de couleur',\n",
    "             'Moyenne R', 'Moyenne G', 'Moyenne B', 'Taille du fichier', 'Set', 'DirPath', 'FileName', 'FilePath']\n",
    "\n",
    "#Réordonner les colonnes\n",
    "df_NPD = df_NPD[new_order]"
   ]
  },
  {
   "cell_type": "markdown",
   "id": "40104a68",
   "metadata": {
    "id": "40104a68"
   },
   "source": [
    "## 4 Résumé des dataframes, transfert aux autres Notebook et création des fichiers csv\n",
    "### 4.1 Résumé des dataframes"
   ]
  },
  {
   "cell_type": "code",
   "execution_count": 24,
   "id": "6d9e875f",
   "metadata": {
    "colab": {
     "base_uri": "https://localhost:8080/"
    },
    "executionInfo": {
     "elapsed": 294,
     "status": "ok",
     "timestamp": 1688827613047,
     "user": {
      "displayName": "Julie Le Vu",
      "userId": "14306858844127411712"
     },
     "user_tz": -120
    },
    "id": "6d9e875f",
    "outputId": "8ab3f79c-5ddf-4177-be00-dda4f3d37592"
   },
   "outputs": [
    {
     "name": "stdout",
     "output_type": "stream",
     "text": [
      "<class 'pandas.core.frame.DataFrame'>\n",
      "RangeIndex: 305088 entries, 0 to 305087\n",
      "Data columns (total 9 columns):\n",
      " #   Column     Non-Null Count   Dtype \n",
      "---  ------     --------------   ----- \n",
      " 0   Categorie  305088 non-null  object\n",
      " 1   Plante     305088 non-null  object\n",
      " 2   Maladie    305088 non-null  object\n",
      " 3   Saine      305088 non-null  int32 \n",
      " 4   Dataset    305088 non-null  object\n",
      " 5   Set        305088 non-null  object\n",
      " 6   DirPath    305088 non-null  object\n",
      " 7   FileName   305088 non-null  object\n",
      " 8   FilePath   305088 non-null  object\n",
      "dtypes: int32(1), object(8)\n",
      "memory usage: 19.8+ MB\n"
     ]
    }
   ],
   "source": [
    "df_KaggleData.info()"
   ]
  },
  {
   "cell_type": "code",
   "execution_count": 25,
   "id": "fc1428fe",
   "metadata": {
    "colab": {
     "base_uri": "https://localhost:8080/"
    },
    "executionInfo": {
     "elapsed": 483,
     "status": "ok",
     "timestamp": 1688827616458,
     "user": {
      "displayName": "Julie Le Vu",
      "userId": "14306858844127411712"
     },
     "user_tz": -120
    },
    "id": "fc1428fe",
    "outputId": "f41e500d-f845-4dbc-a1fd-1f0b0a14cc8a",
    "scrolled": true
   },
   "outputs": [
    {
     "name": "stdout",
     "output_type": "stream",
     "text": [
      "<class 'pandas.core.frame.DataFrame'>\n",
      "Int64Index: 87863 entries, 0 to 87866\n",
      "Data columns (total 23 columns):\n",
      " #   Column                 Non-Null Count  Dtype  \n",
      "---  ------                 --------------  -----  \n",
      " 0   Categorie              87863 non-null  object \n",
      " 1   Plante                 87863 non-null  object \n",
      " 2   Maladie                87863 non-null  object \n",
      " 3   Saine                  87863 non-null  int32  \n",
      " 4   Suffixe                87863 non-null  object \n",
      " 5   Abrev                  87863 non-null  object \n",
      " 6   AbrevMaladie           87863 non-null  object \n",
      " 7   Rotation               87863 non-null  object \n",
      " 8   Luminosite             87863 non-null  object \n",
      " 9   Symetrie               87863 non-null  object \n",
      " 10  Hauteur                87863 non-null  int64  \n",
      " 11  Largeur                87863 non-null  int64  \n",
      " 12  Canaux                 87863 non-null  int64  \n",
      " 13  Mode                   87863 non-null  object \n",
      " 14  Profondeur de couleur  87863 non-null  int64  \n",
      " 15  Moyenne R              87863 non-null  float64\n",
      " 16  Moyenne G              87863 non-null  float64\n",
      " 17  Moyenne B              87863 non-null  float64\n",
      " 18  Taille du fichier      87863 non-null  int64  \n",
      " 19  Set                    87863 non-null  object \n",
      " 20  DirPath                87863 non-null  object \n",
      " 21  FileName               87863 non-null  object \n",
      " 22  FilePath               87863 non-null  object \n",
      "dtypes: float64(3), int32(1), int64(5), object(14)\n",
      "memory usage: 17.8+ MB\n"
     ]
    }
   ],
   "source": [
    "df_NPD.info()"
   ]
  },
  {
   "cell_type": "code",
   "execution_count": 26,
   "id": "3fc94fc3",
   "metadata": {
    "colab": {
     "base_uri": "https://localhost:8080/",
     "height": 357
    },
    "executionInfo": {
     "elapsed": 199,
     "status": "ok",
     "timestamp": 1688827619910,
     "user": {
      "displayName": "Julie Le Vu",
      "userId": "14306858844127411712"
     },
     "user_tz": -120
    },
    "id": "3fc94fc3",
    "outputId": "2a7386ff-785b-4f29-aa22-0b366c2e9254"
   },
   "outputs": [
    {
     "data": {
      "text/html": [
       "<div>\n",
       "<style scoped>\n",
       "    .dataframe tbody tr th:only-of-type {\n",
       "        vertical-align: middle;\n",
       "    }\n",
       "\n",
       "    .dataframe tbody tr th {\n",
       "        vertical-align: top;\n",
       "    }\n",
       "\n",
       "    .dataframe thead th {\n",
       "        text-align: right;\n",
       "    }\n",
       "</style>\n",
       "<table border=\"1\" class=\"dataframe\">\n",
       "  <thead>\n",
       "    <tr style=\"text-align: right;\">\n",
       "      <th></th>\n",
       "      <th>Categorie</th>\n",
       "      <th>Plante</th>\n",
       "      <th>Maladie</th>\n",
       "      <th>Saine</th>\n",
       "      <th>Suffixe</th>\n",
       "      <th>Abrev</th>\n",
       "      <th>AbrevMaladie</th>\n",
       "      <th>Rotation</th>\n",
       "      <th>Luminosite</th>\n",
       "      <th>Symetrie</th>\n",
       "      <th>...</th>\n",
       "      <th>Mode</th>\n",
       "      <th>Profondeur de couleur</th>\n",
       "      <th>Moyenne R</th>\n",
       "      <th>Moyenne G</th>\n",
       "      <th>Moyenne B</th>\n",
       "      <th>Taille du fichier</th>\n",
       "      <th>Set</th>\n",
       "      <th>DirPath</th>\n",
       "      <th>FileName</th>\n",
       "      <th>FilePath</th>\n",
       "    </tr>\n",
       "  </thead>\n",
       "  <tbody>\n",
       "    <tr>\n",
       "      <th>0</th>\n",
       "      <td>Apple__Apple_scab</td>\n",
       "      <td>Apple</td>\n",
       "      <td>Apple_scab</td>\n",
       "      <td>0</td>\n",
       "      <td>270deg.jpg</td>\n",
       "      <td>FREC</td>\n",
       "      <td>Scab</td>\n",
       "      <td>270</td>\n",
       "      <td>0</td>\n",
       "      <td>0</td>\n",
       "      <td>...</td>\n",
       "      <td>RGB</td>\n",
       "      <td>8</td>\n",
       "      <td>109.957947</td>\n",
       "      <td>129.504242</td>\n",
       "      <td>119.117355</td>\n",
       "      <td>9606</td>\n",
       "      <td>valid</td>\n",
       "      <td>C:\\Users\\hadri\\Plant project\\data\\1 New Plant ...</td>\n",
       "      <td>00075aa8-d81a-4184-8541-b692b78d398a___FREC_Sc...</td>\n",
       "      <td>C:\\Users\\hadri\\Plant project\\data\\1 New Plant ...</td>\n",
       "    </tr>\n",
       "    <tr>\n",
       "      <th>1</th>\n",
       "      <td>Apple__Apple_scab</td>\n",
       "      <td>Apple</td>\n",
       "      <td>Apple_scab</td>\n",
       "      <td>0</td>\n",
       "      <td>90deg.jpg</td>\n",
       "      <td>FREC</td>\n",
       "      <td>Scab</td>\n",
       "      <td>90</td>\n",
       "      <td>0</td>\n",
       "      <td>0</td>\n",
       "      <td>...</td>\n",
       "      <td>RGB</td>\n",
       "      <td>8</td>\n",
       "      <td>110.123795</td>\n",
       "      <td>129.669220</td>\n",
       "      <td>119.235626</td>\n",
       "      <td>9960</td>\n",
       "      <td>valid</td>\n",
       "      <td>C:\\Users\\hadri\\Plant project\\data\\1 New Plant ...</td>\n",
       "      <td>00075aa8-d81a-4184-8541-b692b78d398a___FREC_Sc...</td>\n",
       "      <td>C:\\Users\\hadri\\Plant project\\data\\1 New Plant ...</td>\n",
       "    </tr>\n",
       "    <tr>\n",
       "      <th>2</th>\n",
       "      <td>Apple__Apple_scab</td>\n",
       "      <td>Apple</td>\n",
       "      <td>Apple_scab</td>\n",
       "      <td>0</td>\n",
       "      <td>new30degfliplr.jpg</td>\n",
       "      <td>FREC</td>\n",
       "      <td>Scab</td>\n",
       "      <td>30</td>\n",
       "      <td>0</td>\n",
       "      <td>LR</td>\n",
       "      <td>...</td>\n",
       "      <td>RGB</td>\n",
       "      <td>8</td>\n",
       "      <td>89.325546</td>\n",
       "      <td>109.759598</td>\n",
       "      <td>95.272110</td>\n",
       "      <td>10299</td>\n",
       "      <td>valid</td>\n",
       "      <td>C:\\Users\\hadri\\Plant project\\data\\1 New Plant ...</td>\n",
       "      <td>00075aa8-d81a-4184-8541-b692b78d398a___FREC_Sc...</td>\n",
       "      <td>C:\\Users\\hadri\\Plant project\\data\\1 New Plant ...</td>\n",
       "    </tr>\n",
       "    <tr>\n",
       "      <th>3</th>\n",
       "      <td>Apple__Apple_scab</td>\n",
       "      <td>Apple</td>\n",
       "      <td>Apple_scab</td>\n",
       "      <td>0</td>\n",
       "      <td>270deg.jpg</td>\n",
       "      <td>FREC</td>\n",
       "      <td>Scab</td>\n",
       "      <td>270</td>\n",
       "      <td>0</td>\n",
       "      <td>0</td>\n",
       "      <td>...</td>\n",
       "      <td>RGB</td>\n",
       "      <td>8</td>\n",
       "      <td>92.044342</td>\n",
       "      <td>125.152634</td>\n",
       "      <td>115.290207</td>\n",
       "      <td>11986</td>\n",
       "      <td>valid</td>\n",
       "      <td>C:\\Users\\hadri\\Plant project\\data\\1 New Plant ...</td>\n",
       "      <td>01f3deaa-6143-4b6c-9c22-620a46d8be04___FREC_Sc...</td>\n",
       "      <td>C:\\Users\\hadri\\Plant project\\data\\1 New Plant ...</td>\n",
       "    </tr>\n",
       "    <tr>\n",
       "      <th>4</th>\n",
       "      <td>Apple__Apple_scab</td>\n",
       "      <td>Apple</td>\n",
       "      <td>Apple_scab</td>\n",
       "      <td>0</td>\n",
       "      <td>90deg.jpg</td>\n",
       "      <td>FREC</td>\n",
       "      <td>Scab</td>\n",
       "      <td>90</td>\n",
       "      <td>0</td>\n",
       "      <td>0</td>\n",
       "      <td>...</td>\n",
       "      <td>RGB</td>\n",
       "      <td>8</td>\n",
       "      <td>129.272934</td>\n",
       "      <td>125.058243</td>\n",
       "      <td>113.740295</td>\n",
       "      <td>20194</td>\n",
       "      <td>valid</td>\n",
       "      <td>C:\\Users\\hadri\\Plant project\\data\\1 New Plant ...</td>\n",
       "      <td>0208f4eb-45a4-4399-904e-989ac2c6257c___FREC_Sc...</td>\n",
       "      <td>C:\\Users\\hadri\\Plant project\\data\\1 New Plant ...</td>\n",
       "    </tr>\n",
       "  </tbody>\n",
       "</table>\n",
       "<p>5 rows × 23 columns</p>\n",
       "</div>"
      ],
      "text/plain": [
       "           Categorie Plante     Maladie  Saine             Suffixe Abrev  \\\n",
       "0  Apple__Apple_scab  Apple  Apple_scab      0          270deg.jpg  FREC   \n",
       "1  Apple__Apple_scab  Apple  Apple_scab      0           90deg.jpg  FREC   \n",
       "2  Apple__Apple_scab  Apple  Apple_scab      0  new30degfliplr.jpg  FREC   \n",
       "3  Apple__Apple_scab  Apple  Apple_scab      0          270deg.jpg  FREC   \n",
       "4  Apple__Apple_scab  Apple  Apple_scab      0           90deg.jpg  FREC   \n",
       "\n",
       "  AbrevMaladie Rotation Luminosite Symetrie  ...  Mode  Profondeur de couleur  \\\n",
       "0         Scab      270          0        0  ...   RGB                      8   \n",
       "1         Scab       90          0        0  ...   RGB                      8   \n",
       "2         Scab       30          0       LR  ...   RGB                      8   \n",
       "3         Scab      270          0        0  ...   RGB                      8   \n",
       "4         Scab       90          0        0  ...   RGB                      8   \n",
       "\n",
       "    Moyenne R   Moyenne G   Moyenne B  Taille du fichier    Set  \\\n",
       "0  109.957947  129.504242  119.117355               9606  valid   \n",
       "1  110.123795  129.669220  119.235626               9960  valid   \n",
       "2   89.325546  109.759598   95.272110              10299  valid   \n",
       "3   92.044342  125.152634  115.290207              11986  valid   \n",
       "4  129.272934  125.058243  113.740295              20194  valid   \n",
       "\n",
       "                                             DirPath  \\\n",
       "0  C:\\Users\\hadri\\Plant project\\data\\1 New Plant ...   \n",
       "1  C:\\Users\\hadri\\Plant project\\data\\1 New Plant ...   \n",
       "2  C:\\Users\\hadri\\Plant project\\data\\1 New Plant ...   \n",
       "3  C:\\Users\\hadri\\Plant project\\data\\1 New Plant ...   \n",
       "4  C:\\Users\\hadri\\Plant project\\data\\1 New Plant ...   \n",
       "\n",
       "                                            FileName  \\\n",
       "0  00075aa8-d81a-4184-8541-b692b78d398a___FREC_Sc...   \n",
       "1  00075aa8-d81a-4184-8541-b692b78d398a___FREC_Sc...   \n",
       "2  00075aa8-d81a-4184-8541-b692b78d398a___FREC_Sc...   \n",
       "3  01f3deaa-6143-4b6c-9c22-620a46d8be04___FREC_Sc...   \n",
       "4  0208f4eb-45a4-4399-904e-989ac2c6257c___FREC_Sc...   \n",
       "\n",
       "                                            FilePath  \n",
       "0  C:\\Users\\hadri\\Plant project\\data\\1 New Plant ...  \n",
       "1  C:\\Users\\hadri\\Plant project\\data\\1 New Plant ...  \n",
       "2  C:\\Users\\hadri\\Plant project\\data\\1 New Plant ...  \n",
       "3  C:\\Users\\hadri\\Plant project\\data\\1 New Plant ...  \n",
       "4  C:\\Users\\hadri\\Plant project\\data\\1 New Plant ...  \n",
       "\n",
       "[5 rows x 23 columns]"
      ]
     },
     "execution_count": 26,
     "metadata": {},
     "output_type": "execute_result"
    }
   ],
   "source": [
    "df_NPD.head()"
   ]
  },
  {
   "cell_type": "code",
   "execution_count": 42,
   "id": "4c908b8e",
   "metadata": {},
   "outputs": [
    {
     "data": {
      "text/plain": [
       "(87863, 23)"
      ]
     },
     "execution_count": 42,
     "metadata": {},
     "output_type": "execute_result"
    }
   ],
   "source": [
    "df_NPD.shape"
   ]
  },
  {
   "cell_type": "code",
   "execution_count": 46,
   "id": "b068d376",
   "metadata": {},
   "outputs": [
    {
     "data": {
      "text/plain": [
       "((70292, 23), (17571, 23))"
      ]
     },
     "execution_count": 46,
     "metadata": {},
     "output_type": "execute_result"
    }
   ],
   "source": [
    "df_NPD[df_NPD['Set'] == 'train'].shape, df_NPD[df_NPD['Set'] == 'valid'].shape"
   ]
  },
  {
   "cell_type": "code",
   "execution_count": 38,
   "id": "062b0458",
   "metadata": {},
   "outputs": [
    {
     "data": {
      "text/plain": [
       "((87867, 9), (87863, 23))"
      ]
     },
     "execution_count": 38,
     "metadata": {},
     "output_type": "execute_result"
    }
   ],
   "source": [
    "df_KaggleData[df_KaggleData['Dataset'] == 'NewPlantDisease'].shape, df_NPD.shape"
   ]
  },
  {
   "cell_type": "code",
   "execution_count": 35,
   "id": "39eca6f5",
   "metadata": {},
   "outputs": [
    {
     "data": {
      "text/plain": [
       "(54305, 9)"
      ]
     },
     "execution_count": 35,
     "metadata": {},
     "output_type": "execute_result"
    }
   ],
   "source": [
    "df_KaggleData[df_KaggleData['Dataset'] == 'PlantDisease'].shape"
   ]
  },
  {
   "cell_type": "code",
   "execution_count": 36,
   "id": "acd2f715",
   "metadata": {},
   "outputs": [
    {
     "data": {
      "text/plain": [
       "(162916, 9)"
      ]
     },
     "execution_count": 36,
     "metadata": {},
     "output_type": "execute_result"
    }
   ],
   "source": [
    "df_KaggleData[df_KaggleData['Dataset'] == 'PlantVillage'].shape"
   ]
  },
  {
   "cell_type": "code",
   "execution_count": 39,
   "id": "8dfda861",
   "metadata": {},
   "outputs": [
    {
     "data": {
      "text/plain": [
       "(305088, 9)"
      ]
     },
     "execution_count": 39,
     "metadata": {},
     "output_type": "execute_result"
    }
   ],
   "source": [
    "df_KaggleData.shape"
   ]
  },
  {
   "cell_type": "code",
   "execution_count": 40,
   "id": "52bc6eac",
   "metadata": {},
   "outputs": [
    {
     "data": {
      "text/plain": [
       "305088"
      ]
     },
     "execution_count": 40,
     "metadata": {},
     "output_type": "execute_result"
    }
   ],
   "source": [
    "df_KaggleData[df_KaggleData['Dataset'] == 'NewPlantDisease'].shape[0] + df_KaggleData[df_KaggleData['Dataset'] == 'PlantDisease'].shape[0] + df_KaggleData[df_KaggleData['Dataset'] == 'PlantVillage'].shape[0]"
   ]
  },
  {
   "cell_type": "code",
   "execution_count": 41,
   "id": "0c488af9",
   "metadata": {},
   "outputs": [
    {
     "data": {
      "text/plain": [
       "162915"
      ]
     },
     "execution_count": 41,
     "metadata": {},
     "output_type": "execute_result"
    }
   ],
   "source": [
    "df_KaggleData[df_KaggleData['Dataset'] == 'PlantDisease'].shape[0]*3"
   ]
  },
  {
   "cell_type": "markdown",
   "id": "67f5eb0b",
   "metadata": {
    "id": "67f5eb0b"
   },
   "source": [
    "### 4.2 Transfert aux autres Notebook"
   ]
  },
  {
   "cell_type": "code",
   "execution_count": 27,
   "id": "69fb7f2b",
   "metadata": {
    "colab": {
     "base_uri": "https://localhost:8080/"
    },
    "executionInfo": {
     "elapsed": 2403,
     "status": "ok",
     "timestamp": 1688827626069,
     "user": {
      "displayName": "Julie Le Vu",
      "userId": "14306858844127411712"
     },
     "user_tz": -120
    },
    "id": "69fb7f2b",
    "outputId": "1527261b-1547-4d88-be3f-27dd286925a9"
   },
   "outputs": [
    {
     "name": "stdout",
     "output_type": "stream",
     "text": [
      "Stored 'df_KaggleData' (DataFrame)\n",
      "Stored 'df_NPD' (DataFrame)\n"
     ]
    }
   ],
   "source": [
    "%store df_KaggleData\n",
    "%store df_NPD"
   ]
  },
  {
   "cell_type": "markdown",
   "id": "b467b04e",
   "metadata": {
    "id": "b467b04e"
   },
   "source": [
    "### 4.3 Création des fichiers csv"
   ]
  },
  {
   "cell_type": "code",
   "execution_count": 28,
   "id": "4d700a0a",
   "metadata": {
    "executionInfo": {
     "elapsed": 3990,
     "status": "ok",
     "timestamp": 1688827632325,
     "user": {
      "displayName": "Julie Le Vu",
      "userId": "14306858844127411712"
     },
     "user_tz": -120
    },
    "id": "4d700a0a"
   },
   "outputs": [],
   "source": [
    "# Vérification de la présence du répertoire de sauvegarde des fichiers csv\n",
    "os.makedirs(pathRep_csv, exist_ok=True)\n",
    "# Création du fichier csv pour le dataframe df_KaggleData\n",
    "chemin_cible = pathRep_csv + \"/df_KaggleData.csv\"\n",
    "df_KaggleData.to_csv(chemin_cible, index=False)\n",
    "# Création du fichier csv pour le dataframe df_NPD\n",
    "chemin_cible = pathRep_csv + \"/df_NPD.csv\"\n",
    "df_NPD.to_csv(chemin_cible, index=False)"
   ]
  },
  {
   "cell_type": "code",
   "execution_count": null,
   "id": "5cd9270f",
   "metadata": {
    "id": "5cd9270f"
   },
   "outputs": [],
   "source": []
  },
  {
   "cell_type": "code",
   "execution_count": 30,
   "id": "c5169bfd",
   "metadata": {},
   "outputs": [
    {
     "data": {
      "text/html": [
       "<div>\n",
       "<style scoped>\n",
       "    .dataframe tbody tr th:only-of-type {\n",
       "        vertical-align: middle;\n",
       "    }\n",
       "\n",
       "    .dataframe tbody tr th {\n",
       "        vertical-align: top;\n",
       "    }\n",
       "\n",
       "    .dataframe thead th {\n",
       "        text-align: right;\n",
       "    }\n",
       "</style>\n",
       "<table border=\"1\" class=\"dataframe\">\n",
       "  <thead>\n",
       "    <tr style=\"text-align: right;\">\n",
       "      <th></th>\n",
       "      <th>Categorie</th>\n",
       "      <th>Plante</th>\n",
       "      <th>Maladie</th>\n",
       "      <th>Saine</th>\n",
       "      <th>Dataset</th>\n",
       "      <th>Set</th>\n",
       "      <th>DirPath</th>\n",
       "      <th>FileName</th>\n",
       "      <th>FilePath</th>\n",
       "    </tr>\n",
       "  </thead>\n",
       "  <tbody>\n",
       "    <tr>\n",
       "      <th>0</th>\n",
       "      <td>Apple__Apple_scab</td>\n",
       "      <td>Apple</td>\n",
       "      <td>Apple_scab</td>\n",
       "      <td>0</td>\n",
       "      <td>NewPlantDisease</td>\n",
       "      <td>valid</td>\n",
       "      <td>C:\\Users\\hadri\\Plant project\\data\\1 New Plant ...</td>\n",
       "      <td>00075aa8-d81a-4184-8541-b692b78d398a___FREC_Sc...</td>\n",
       "      <td>C:\\Users\\hadri\\Plant project\\data\\1 New Plant ...</td>\n",
       "    </tr>\n",
       "    <tr>\n",
       "      <th>1</th>\n",
       "      <td>Apple__Apple_scab</td>\n",
       "      <td>Apple</td>\n",
       "      <td>Apple_scab</td>\n",
       "      <td>0</td>\n",
       "      <td>NewPlantDisease</td>\n",
       "      <td>valid</td>\n",
       "      <td>C:\\Users\\hadri\\Plant project\\data\\1 New Plant ...</td>\n",
       "      <td>00075aa8-d81a-4184-8541-b692b78d398a___FREC_Sc...</td>\n",
       "      <td>C:\\Users\\hadri\\Plant project\\data\\1 New Plant ...</td>\n",
       "    </tr>\n",
       "    <tr>\n",
       "      <th>2</th>\n",
       "      <td>Apple__Apple_scab</td>\n",
       "      <td>Apple</td>\n",
       "      <td>Apple_scab</td>\n",
       "      <td>0</td>\n",
       "      <td>NewPlantDisease</td>\n",
       "      <td>valid</td>\n",
       "      <td>C:\\Users\\hadri\\Plant project\\data\\1 New Plant ...</td>\n",
       "      <td>00075aa8-d81a-4184-8541-b692b78d398a___FREC_Sc...</td>\n",
       "      <td>C:\\Users\\hadri\\Plant project\\data\\1 New Plant ...</td>\n",
       "    </tr>\n",
       "    <tr>\n",
       "      <th>3</th>\n",
       "      <td>Apple__Apple_scab</td>\n",
       "      <td>Apple</td>\n",
       "      <td>Apple_scab</td>\n",
       "      <td>0</td>\n",
       "      <td>NewPlantDisease</td>\n",
       "      <td>valid</td>\n",
       "      <td>C:\\Users\\hadri\\Plant project\\data\\1 New Plant ...</td>\n",
       "      <td>01f3deaa-6143-4b6c-9c22-620a46d8be04___FREC_Sc...</td>\n",
       "      <td>C:\\Users\\hadri\\Plant project\\data\\1 New Plant ...</td>\n",
       "    </tr>\n",
       "    <tr>\n",
       "      <th>4</th>\n",
       "      <td>Apple__Apple_scab</td>\n",
       "      <td>Apple</td>\n",
       "      <td>Apple_scab</td>\n",
       "      <td>0</td>\n",
       "      <td>NewPlantDisease</td>\n",
       "      <td>valid</td>\n",
       "      <td>C:\\Users\\hadri\\Plant project\\data\\1 New Plant ...</td>\n",
       "      <td>0208f4eb-45a4-4399-904e-989ac2c6257c___FREC_Sc...</td>\n",
       "      <td>C:\\Users\\hadri\\Plant project\\data\\1 New Plant ...</td>\n",
       "    </tr>\n",
       "  </tbody>\n",
       "</table>\n",
       "</div>"
      ],
      "text/plain": [
       "           Categorie Plante     Maladie  Saine          Dataset    Set  \\\n",
       "0  Apple__Apple_scab  Apple  Apple_scab      0  NewPlantDisease  valid   \n",
       "1  Apple__Apple_scab  Apple  Apple_scab      0  NewPlantDisease  valid   \n",
       "2  Apple__Apple_scab  Apple  Apple_scab      0  NewPlantDisease  valid   \n",
       "3  Apple__Apple_scab  Apple  Apple_scab      0  NewPlantDisease  valid   \n",
       "4  Apple__Apple_scab  Apple  Apple_scab      0  NewPlantDisease  valid   \n",
       "\n",
       "                                             DirPath  \\\n",
       "0  C:\\Users\\hadri\\Plant project\\data\\1 New Plant ...   \n",
       "1  C:\\Users\\hadri\\Plant project\\data\\1 New Plant ...   \n",
       "2  C:\\Users\\hadri\\Plant project\\data\\1 New Plant ...   \n",
       "3  C:\\Users\\hadri\\Plant project\\data\\1 New Plant ...   \n",
       "4  C:\\Users\\hadri\\Plant project\\data\\1 New Plant ...   \n",
       "\n",
       "                                            FileName  \\\n",
       "0  00075aa8-d81a-4184-8541-b692b78d398a___FREC_Sc...   \n",
       "1  00075aa8-d81a-4184-8541-b692b78d398a___FREC_Sc...   \n",
       "2  00075aa8-d81a-4184-8541-b692b78d398a___FREC_Sc...   \n",
       "3  01f3deaa-6143-4b6c-9c22-620a46d8be04___FREC_Sc...   \n",
       "4  0208f4eb-45a4-4399-904e-989ac2c6257c___FREC_Sc...   \n",
       "\n",
       "                                            FilePath  \n",
       "0  C:\\Users\\hadri\\Plant project\\data\\1 New Plant ...  \n",
       "1  C:\\Users\\hadri\\Plant project\\data\\1 New Plant ...  \n",
       "2  C:\\Users\\hadri\\Plant project\\data\\1 New Plant ...  \n",
       "3  C:\\Users\\hadri\\Plant project\\data\\1 New Plant ...  \n",
       "4  C:\\Users\\hadri\\Plant project\\data\\1 New Plant ...  "
      ]
     },
     "execution_count": 30,
     "metadata": {},
     "output_type": "execute_result"
    }
   ],
   "source": [
    "df_KaggleData.head()"
   ]
  }
 ],
 "metadata": {
  "colab": {
   "provenance": []
  },
  "kernelspec": {
   "display_name": "Python 3 (ipykernel)",
   "language": "python",
   "name": "python3"
  },
  "language_info": {
   "codemirror_mode": {
    "name": "ipython",
    "version": 3
   },
   "file_extension": ".py",
   "mimetype": "text/x-python",
   "name": "python",
   "nbconvert_exporter": "python",
   "pygments_lexer": "ipython3",
   "version": "3.10.9"
  }
 },
 "nbformat": 4,
 "nbformat_minor": 5
}
